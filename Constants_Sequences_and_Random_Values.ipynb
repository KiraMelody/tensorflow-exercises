{
 "cells": [
  {
   "cell_type": "markdown",
   "metadata": {},
   "source": [
    "# Constants_Sequences_and_Random_Values"
   ]
  },
  {
   "cell_type": "code",
   "execution_count": 7,
   "metadata": {
    "collapsed": true
   },
   "outputs": [],
   "source": [
    "from __future__ import print_function\n",
    "import tensorflow as tf\n",
    "import numpy as np"
   ]
  },
  {
   "cell_type": "code",
   "execution_count": 8,
   "metadata": {
    "collapsed": false
   },
   "outputs": [
    {
     "data": {
      "text/plain": [
       "datetime.date(2017, 5, 14)"
      ]
     },
     "execution_count": 8,
     "metadata": {},
     "output_type": "execute_result"
    }
   ],
   "source": [
    "from datetime import date\n",
    "date.today()"
   ]
  },
  {
   "cell_type": "code",
   "execution_count": 9,
   "metadata": {
    "collapsed": true
   },
   "outputs": [],
   "source": [
    "author = \"kyubyong. https://github.com/Kyubyong/tensorflow-exercises\""
   ]
  },
  {
   "cell_type": "code",
   "execution_count": 10,
   "metadata": {
    "collapsed": false
   },
   "outputs": [
    {
     "data": {
      "text/plain": [
       "'0.8.0rc0'"
      ]
     },
     "execution_count": 10,
     "metadata": {},
     "output_type": "execute_result"
    }
   ],
   "source": [
    "tf.__version__"
   ]
  },
  {
   "cell_type": "code",
   "execution_count": 11,
   "metadata": {
    "collapsed": false
   },
   "outputs": [
    {
     "data": {
      "text/plain": [
       "'1.12.1'"
      ]
     },
     "execution_count": 11,
     "metadata": {},
     "output_type": "execute_result"
    }
   ],
   "source": [
    "np.__version__"
   ]
  },
  {
   "cell_type": "code",
   "execution_count": 12,
   "metadata": {
    "collapsed": true
   },
   "outputs": [],
   "source": [
    "sess = tf.InteractiveSession()"
   ]
  },
  {
   "cell_type": "markdown",
   "metadata": {},
   "source": [
    "NOTE on notation\n",
    "* _x, _y, _z, ...: NumPy 0-d or 1-d arrays\n",
    "* _X, _Y, _Z, ...: NumPy 2-d or higer dimensional arrays\n",
    "* x, y, z, ...: 0-d or 1-d tensors\n",
    "* X, Y, Z, ...: 2-d or higher dimensional tensors"
   ]
  },
  {
   "cell_type": "markdown",
   "metadata": {},
   "source": [
    "## Constant Value Tensors"
   ]
  },
  {
   "cell_type": "markdown",
   "metadata": {},
   "source": [
    "Q1. Create a tensor of the shape [2, 3] with all elements set to zero.\n"
   ]
  },
  {
   "cell_type": "code",
   "execution_count": 13,
   "metadata": {
    "collapsed": false
   },
   "outputs": [
    {
     "name": "stdout",
     "output_type": "stream",
     "text": [
      "[[ 0.  0.  0.]\n",
      " [ 0.  0.  0.]]\n"
     ]
    }
   ],
   "source": [
    "x = tf.zeros([2,3])\n",
    "print (x.eval())"
   ]
  },
  {
   "cell_type": "markdown",
   "metadata": {},
   "source": [
    "Q2. Let X be a tensor of [[1,2,3], [4,5,6]]. <br />Create a tensor of the same shape and dtype as X with all elements set to zero."
   ]
  },
  {
   "cell_type": "code",
   "execution_count": 14,
   "metadata": {
    "collapsed": false
   },
   "outputs": [
    {
     "name": "stdout",
     "output_type": "stream",
     "text": [
      "[[0 0 0]\n",
      " [0 0 0]]\n"
     ]
    }
   ],
   "source": [
    "_X = np.array([[1,2,3], [4,5,6]])\n",
    "X = tf.convert_to_tensor(_X)\n",
    "x = tf.zeros_like(X)\n",
    "print (x.eval())"
   ]
  },
  {
   "cell_type": "markdown",
   "metadata": {},
   "source": [
    "Q3. Create a tensor of shape [2, 3] with all elements set to one."
   ]
  },
  {
   "cell_type": "code",
   "execution_count": 19,
   "metadata": {
    "collapsed": false
   },
   "outputs": [
    {
     "name": "stdout",
     "output_type": "stream",
     "text": [
      "[[ 1.  1.  1.]\n",
      " [ 1.  1.  1.]]\n"
     ]
    }
   ],
   "source": [
    "out = tf.ones([2,3])\n",
    "print (out.eval())"
   ]
  },
  {
   "cell_type": "markdown",
   "metadata": {},
   "source": [
    "Q4. Let X be a tensor of [[1,2,3], [4,5,6]]. <br />Create a tensor of the same shape and dtype as X with all elements set to one."
   ]
  },
  {
   "cell_type": "code",
   "execution_count": 21,
   "metadata": {
    "collapsed": false
   },
   "outputs": [
    {
     "name": "stdout",
     "output_type": "stream",
     "text": [
      "[[1 1 1]\n",
      " [1 1 1]]\n"
     ]
    }
   ],
   "source": [
    "_X = np.array([[1,2,3], [4,5,6]])\n",
    "X = tf.convert_to_tensor(_X)\n",
    "x = tf.ones_like(X)\n",
    "print (x.eval())"
   ]
  },
  {
   "cell_type": "markdown",
   "metadata": {},
   "source": [
    "Q5. Create a tensor of the shape [3, 2], with all elements of 5."
   ]
  },
  {
   "cell_type": "code",
   "execution_count": 23,
   "metadata": {
    "collapsed": false
   },
   "outputs": [
    {
     "name": "stdout",
     "output_type": "stream",
     "text": [
      "[[5 5]\n",
      " [5 5]\n",
      " [5 5]]\n"
     ]
    }
   ],
   "source": [
    "x = tf.fill([3,2],5)\n",
    "print (x.eval())"
   ]
  },
  {
   "cell_type": "markdown",
   "metadata": {},
   "source": [
    "Q6. Create a constant tensor of [[1, 3, 5], [4, 6, 8]], with dtype=float32"
   ]
  },
  {
   "cell_type": "code",
   "execution_count": 25,
   "metadata": {
    "collapsed": false
   },
   "outputs": [
    {
     "name": "stdout",
     "output_type": "stream",
     "text": [
      "[[ 1.  3.  5.]\n",
      " [ 4.  6.  8.]]\n"
     ]
    }
   ],
   "source": [
    "x = tf.constant([[1, 3, 5], [4, 6, 8]], dtype = tf.float32)\n",
    "print (x.eval())"
   ]
  },
  {
   "cell_type": "markdown",
   "metadata": {},
   "source": [
    "Q7. Create a constant tensor of the shape [2, 3], with all elements set to 4."
   ]
  },
  {
   "cell_type": "code",
   "execution_count": 27,
   "metadata": {
    "collapsed": false
   },
   "outputs": [
    {
     "name": "stdout",
     "output_type": "stream",
     "text": [
      "[[4 4 4]\n",
      " [4 4 4]]\n"
     ]
    }
   ],
   "source": [
    "x = tf.constant(4, shape=[2,3])\n",
    "print (x.eval())"
   ]
  },
  {
   "cell_type": "code",
   "execution_count": null,
   "metadata": {
    "collapsed": true
   },
   "outputs": [],
   "source": [
    "x = tf.constant"
   ]
  },
  {
   "cell_type": "markdown",
   "metadata": {},
   "source": [
    "## Sequences"
   ]
  },
  {
   "cell_type": "markdown",
   "metadata": {},
   "source": [
    "Q8. Create a 1-D tensor of 50 evenly spaced elements between 5 and 10 inclusive."
   ]
  },
  {
   "cell_type": "code",
   "execution_count": 32,
   "metadata": {
    "collapsed": false
   },
   "outputs": [
    {
     "name": "stdout",
     "output_type": "stream",
     "text": [
      "[  5.           5.10204077   5.20408154   5.3061223    5.40816307\n",
      "   5.51020432   5.61224508   5.71428585   5.81632662   5.91836739\n",
      "   6.02040815   6.12244892   6.22448969   6.32653046   6.4285717\n",
      "   6.53061247   6.63265324   6.734694     6.83673477   6.93877554\n",
      "   7.04081631   7.14285755   7.24489784   7.34693909   7.44897938\n",
      "   7.55102062   7.65306139   7.75510216   7.85714293   7.95918369\n",
      "   8.06122494   8.16326523   8.26530647   8.36734676   8.46938801\n",
      "   8.5714283    8.67346954   8.77551079   8.87755108   8.97959232\n",
      "   9.08163261   9.18367386   9.2857151    9.38775539   9.48979568\n",
      "   9.59183693   9.69387817   9.79591846   9.89795876  10.        ]\n"
     ]
    }
   ],
   "source": [
    "x = tf.linspace(5.0, 10.0, 50)\n",
    "print (x.eval())"
   ]
  },
  {
   "cell_type": "markdown",
   "metadata": {},
   "source": [
    "Q9. Create a tensor which looks like [10, 12, 14, 16, ..., 100]."
   ]
  },
  {
   "cell_type": "code",
   "execution_count": 38,
   "metadata": {
    "collapsed": false
   },
   "outputs": [
    {
     "name": "stdout",
     "output_type": "stream",
     "text": [
      "[ 10  12  14  16  18  20  22  24  26  28  30  32  34  36  38  40  42  44\n",
      "  46  48  50  52  54  56  58  60  62  64  66  68  70  72  74  76  78  80\n",
      "  82  84  86  88  90  92  94  96  98 100]\n"
     ]
    }
   ],
   "source": [
    "x = tf.range(10, 101, 2)\n",
    "print(x.eval())"
   ]
  },
  {
   "cell_type": "markdown",
   "metadata": {},
   "source": [
    "## Random Tensors"
   ]
  },
  {
   "cell_type": "markdown",
   "metadata": {},
   "source": [
    "Q10. Create a random tensor of the shape [3, 2], with elements from a normal distribution of mean=0, standard deviation=2."
   ]
  },
  {
   "cell_type": "code",
   "execution_count": 43,
   "metadata": {
    "collapsed": false
   },
   "outputs": [
    {
     "name": "stdout",
     "output_type": "stream",
     "text": [
      "[[-0.59003246 -1.14384615]\n",
      " [ 0.12230165 -2.33827972]\n",
      " [ 2.40860152  4.16021729]]\n"
     ]
    }
   ],
   "source": [
    "x = tf.random_normal([3,2], 0, 2)\n",
    "print(x.eval())"
   ]
  },
  {
   "cell_type": "markdown",
   "metadata": {},
   "source": [
    "Q11. Create a random tensor of the shape [3, 2], with elements from a normal distribution of mean=0, standard deviation=1 such that any values don't exceed 2 standard deviations from the mean."
   ]
  },
  {
   "cell_type": "code",
   "execution_count": 48,
   "metadata": {
    "collapsed": false
   },
   "outputs": [
    {
     "name": "stdout",
     "output_type": "stream",
     "text": [
      "[[ 1.08024669  0.54322827]\n",
      " [ 0.44302219  0.19200934]\n",
      " [-0.95795691  0.50040364]]\n"
     ]
    }
   ],
   "source": [
    "x = tf.truncated_normal([3,2])\n",
    "print(x.eval())"
   ]
  },
  {
   "cell_type": "markdown",
   "metadata": {},
   "source": [
    "Q12. Create a random tensor of the shape [3, 2], with all elements from a uniform distribution that ranges from 0 to 2 (exclusive)."
   ]
  },
  {
   "cell_type": "code",
   "execution_count": 49,
   "metadata": {
    "collapsed": false
   },
   "outputs": [
    {
     "name": "stdout",
     "output_type": "stream",
     "text": [
      "[[ 1.48548293  1.98276114]\n",
      " [ 0.01324224  0.13771868]\n",
      " [ 0.66008043  1.19465876]]\n"
     ]
    }
   ],
   "source": [
    "x = tf.random_uniform([3,2], 0, 2)\n",
    "print(x.eval())"
   ]
  },
  {
   "cell_type": "markdown",
   "metadata": {},
   "source": [
    "Q13. Let X be a tensor of [[1, 2], [3, 4], [5, 6]]. Shuffle X along its first dimension."
   ]
  },
  {
   "cell_type": "code",
   "execution_count": 52,
   "metadata": {
    "collapsed": false
   },
   "outputs": [
    {
     "name": "stdout",
     "output_type": "stream",
     "text": [
      "[[1 2]\n",
      " [5 6]\n",
      " [3 4]]\n"
     ]
    }
   ],
   "source": [
    "x = tf.constant([[1, 2], [3, 4], [5, 6]])\n",
    "x = tf.random_shuffle(x)\n",
    "print(x.eval())"
   ]
  },
  {
   "cell_type": "markdown",
   "metadata": {},
   "source": [
    "Q14. Let X be a random tensor of the shape [10, 10, 3], with elements from a unit normal distribution. Crop X with the shape of [5, 5, 3]."
   ]
  },
  {
   "cell_type": "code",
   "execution_count": 54,
   "metadata": {
    "collapsed": false
   },
   "outputs": [
    {
     "name": "stdout",
     "output_type": "stream",
     "text": [
      "[[[ 0.4011468   0.1380153   0.14562385]\n",
      "  [ 0.27342752 -0.36831936 -0.05429364]\n",
      "  [-0.2249362  -0.07106428  0.17690149]\n",
      "  [-0.07654715  0.20363851  0.28577805]\n",
      "  [ 1.06467927 -0.97217619  0.09804254]]\n",
      "\n",
      " [[-1.60942829  0.80102372 -0.9266066 ]\n",
      "  [-1.34374475 -0.12085755  0.46271506]\n",
      "  [ 0.46257555 -0.72497576 -0.66498703]\n",
      "  [ 0.38711292  0.10435353 -1.07191336]\n",
      "  [-1.98557055  0.01715446  0.83402079]]\n",
      "\n",
      " [[-0.40633705 -1.13211906 -2.25901079]\n",
      "  [ 0.08446012 -0.24357936  0.51507246]\n",
      "  [ 0.05449572  0.54894978  0.12574738]\n",
      "  [ 0.2263658  -0.484117   -1.01188886]\n",
      "  [-1.23522687  0.88364393 -1.2092396 ]]\n",
      "\n",
      " [[ 0.62986857 -0.48443875 -0.32393417]\n",
      "  [ 0.34706494  0.01690649 -0.10616488]\n",
      "  [-1.77190781 -0.69710207 -1.41193306]\n",
      "  [ 0.92126149 -0.76606566  0.75227356]\n",
      "  [ 0.92588383  0.01852517 -0.53432924]]\n",
      "\n",
      " [[ 0.69627517 -1.01199389  0.35712653]\n",
      "  [ 0.63756472  0.85480094  0.98267466]\n",
      "  [ 0.43126425 -0.69673651 -0.32745293]\n",
      "  [-0.51154268  0.16226543 -0.6893236 ]\n",
      "  [ 0.42541373 -2.61562943 -1.30113697]]]\n"
     ]
    }
   ],
   "source": [
    "X = tf.random_normal([10, 10, 3])\n",
    "x = tf.random_crop(X, [5, 5, 3])\n",
    "print(x.eval())"
   ]
  }
 ],
 "metadata": {
  "anaconda-cloud": {},
  "kernelspec": {
   "display_name": "Python 2",
   "language": "python",
   "name": "python2"
  },
  "language_info": {
   "codemirror_mode": {
    "name": "ipython",
    "version": 2
   },
   "file_extension": ".py",
   "mimetype": "text/x-python",
   "name": "python",
   "nbconvert_exporter": "python",
   "pygments_lexer": "ipython2",
   "version": "2.7.13"
  }
 },
 "nbformat": 4,
 "nbformat_minor": 1
}
